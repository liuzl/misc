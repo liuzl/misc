{
 "cells": [
  {
   "cell_type": "markdown",
   "metadata": {},
   "source": [
    "# 阿拉伯语文本分析\n",
    "\n",
    "> 刘占亮，liang@zliu.org，2020年3月18日\n",
    "\n",
    "##  功能说明\n",
    "\n",
    "阿拉伯语文本分析系统，实现了如下功能：阿拉伯语分词、词干提取、词性标注、命名实体识别（人名，地名，机构名）、语义相似词推荐。\n",
    "\n",
    "其中阿拉伯语分词、词干提取、词性标注、命名实体识别功能是基于`stanza`实现的，语义相似词推荐是基于`aravec`实现的。\n",
    "\n",
    "## 使用说明\n",
    "\n",
    "### 环境依赖安装\n",
    "\n",
    "依赖`python3`环境，推荐使用`Anaconda3`。"
   ]
  },
  {
   "cell_type": "code",
   "execution_count": 1,
   "metadata": {},
   "outputs": [
    {
     "name": "stdout",
     "output_type": "stream",
     "text": [
      "Downloading https://raw.githubusercontent.com/stanfordnlp/stanza-resources/master/resources_1.0.0.json: 116kB [00:00, 20.8MB/s]           \n",
      "2020-03-18 18:02:43 INFO: Downloading default packages for language: ar (Arabic)...\n",
      "2020-03-18 18:02:45 INFO: File exists: /Users/hwang/stanza_resources/ar/default.zip.\n",
      "2020-03-18 18:02:51 INFO: Finished downloading models and saved to /Users/hwang/stanza_resources.\n"
     ]
    }
   ],
   "source": [
    "# 安装python依赖：stanza、gensim、nltk\n",
    "# 下载阿语模型\n",
    "!sh setup.sh > /dev/null"
   ]
  },
  {
   "cell_type": "markdown",
   "metadata": {},
   "source": [
    "### 使用方式"
   ]
  },
  {
   "cell_type": "code",
   "execution_count": 2,
   "metadata": {},
   "outputs": [
    {
     "name": "stderr",
     "output_type": "stream",
     "text": [
      "2020-03-18 18:04:38 INFO: Loading these models for language: ar (Arabic):\n",
      "=======================\n",
      "| Processor | Package |\n",
      "-----------------------\n",
      "| tokenize  | padt    |\n",
      "| mwt       | padt    |\n",
      "| pos       | padt    |\n",
      "| lemma     | padt    |\n",
      "| depparse  | padt    |\n",
      "| ner       | aqmar   |\n",
      "=======================\n",
      "\n",
      "2020-03-18 18:04:38 INFO: Use device: cpu\n",
      "2020-03-18 18:04:38 INFO: Loading: tokenize\n",
      "2020-03-18 18:04:38 INFO: Loading: mwt\n",
      "2020-03-18 18:04:38 INFO: Loading: pos\n",
      "2020-03-18 18:04:39 INFO: Loading: lemma\n",
      "2020-03-18 18:04:39 INFO: Loading: depparse\n",
      "2020-03-18 18:04:40 INFO: Loading: ner\n",
      "2020-03-18 18:04:41 INFO: Done loading processors!\n"
     ]
    }
   ],
   "source": [
    "import arnlp"
   ]
  },
  {
   "cell_type": "code",
   "execution_count": 3,
   "metadata": {},
   "outputs": [],
   "source": [
    "text = '''شهدت نهاية الستينيات من القرن الماضي تكاتف كل من معهد ماساتشوستس للتقنية, شركة إيه تي أند تي (مختبرات بيل)، وشركة جنرال إلكتريك للعمل على نظام تشغيل تجريبي أُطلق عليه اسم مولتكس. كان يفترض بالنظام مولتكس أن يكون تفاعلياً ومتجاوباً مع مستخدمي النظام ناهيك عن الضرورة الأمنية للنظام من محاولات اختراق الملفات السرية التي يقوم بحفظها في مستودع الحفظ. رأى المشروع النور على شكل نظام تشغيل قابل للتطبيق إلا أن النظام أظهر أداءً '''"
   ]
  },
  {
   "cell_type": "code",
   "execution_count": 4,
   "metadata": {},
   "outputs": [
    {
     "data": {
      "text/plain": [
       "[{'text': 'شهدت', 'lemma': 'شَهِد', 'pos': 'VERB'},\n",
       " {'text': 'نهاية', 'lemma': 'نِهَايَة', 'pos': 'NOUN'},\n",
       " {'text': 'الستينيات', 'lemma': 'سِتِينِيّ', 'pos': 'ADJ'},\n",
       " {'text': 'من', 'lemma': 'مِن', 'pos': 'ADP'},\n",
       " {'text': 'القرن', 'lemma': 'قَرن', 'pos': 'NOUN'},\n",
       " {'text': 'الماضي', 'lemma': 'مَاضِي', 'pos': 'ADJ'},\n",
       " {'text': 'تكاتف', 'lemma': 'تَكَاتُف', 'pos': 'NOUN'},\n",
       " {'text': 'كل', 'lemma': 'كُلّ', 'pos': 'NOUN'},\n",
       " {'text': 'من', 'lemma': 'مِن', 'pos': 'ADP'},\n",
       " {'text': 'معهد', 'lemma': 'مَعهَد', 'pos': 'NOUN'}]"
      ]
     },
     "execution_count": 4,
     "metadata": {},
     "output_type": "execute_result"
    }
   ],
   "source": [
    "# 1、分词、词干提取、词性标注\n",
    "arnlp.cut(text)[:10]"
   ]
  },
  {
   "cell_type": "code",
   "execution_count": 5,
   "metadata": {},
   "outputs": [
    {
     "data": {
      "text/plain": [
       "[{'text': 'معهد ماساتشوستس للتقنية',\n",
       "  'type': 'LOC',\n",
       "  'start_char': 49,\n",
       "  'end_char': 72},\n",
       " {'text': 'إيه', 'type': 'ORG', 'start_char': 79, 'end_char': 82},\n",
       " {'text': 'تي', 'type': 'ORG', 'start_char': 83, 'end_char': 85},\n",
       " {'text': 'أند', 'type': 'ORG', 'start_char': 86, 'end_char': 89},\n",
       " {'text': 'تي', 'type': 'ORG', 'start_char': 90, 'end_char': 92},\n",
       " {'text': 'مختبرات بيل', 'type': 'LOC', 'start_char': 94, 'end_char': 105},\n",
       " {'text': 'جنرال إلكتريك', 'type': 'ORG', 'start_char': 114, 'end_char': 127},\n",
       " {'text': 'نظام تشغيل', 'type': 'MISC', 'start_char': 138, 'end_char': 148},\n",
       " {'text': 'مولتكس', 'type': 'LOC', 'start_char': 171, 'end_char': 177},\n",
       " {'text': 'مولتكس', 'type': 'MISC', 'start_char': 197, 'end_char': 203},\n",
       " {'text': 'نظام تشغيل', 'type': 'MISC', 'start_char': 374, 'end_char': 384}]"
      ]
     },
     "execution_count": 5,
     "metadata": {},
     "output_type": "execute_result"
    }
   ],
   "source": [
    "# 2、命名实体识别\n",
    "arnlp.ner(text)"
   ]
  },
  {
   "cell_type": "code",
   "execution_count": 6,
   "metadata": {},
   "outputs": [
    {
     "data": {
      "text/plain": [
       "[('للنظام', 0.8017589449882507),\n",
       " ('نظامه', 0.7375044226646423),\n",
       " ('نظام', 0.7166111469268799),\n",
       " ('بالنظام', 0.713510274887085),\n",
       " ('الوضع', 0.6911128759384155),\n",
       " ('نظامها', 0.68333899974823),\n",
       " ('النظام_السياسي', 0.6806480288505554),\n",
       " ('التطبيق', 0.6650558710098267),\n",
       " ('النموذج', 0.6574497222900391),\n",
       " ('التنظيم', 0.6483163833618164)]"
      ]
     },
     "execution_count": 6,
     "metadata": {},
     "output_type": "execute_result"
    }
   ],
   "source": [
    "# 3、语义相似词推荐\n",
    "arnlp.find_similar('النظام', topn=10)"
   ]
  },
  {
   "cell_type": "code",
   "execution_count": null,
   "metadata": {},
   "outputs": [],
   "source": []
  }
 ],
 "metadata": {
  "kernelspec": {
   "display_name": "Python 3",
   "language": "python",
   "name": "python3"
  },
  "language_info": {
   "codemirror_mode": {
    "name": "ipython",
    "version": 3
   },
   "file_extension": ".py",
   "mimetype": "text/x-python",
   "name": "python",
   "nbconvert_exporter": "python",
   "pygments_lexer": "ipython3",
   "version": "3.7.1"
  }
 },
 "nbformat": 4,
 "nbformat_minor": 2
}
